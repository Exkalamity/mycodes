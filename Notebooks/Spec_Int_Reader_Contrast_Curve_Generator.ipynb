{
 "cells": [
  {
   "cell_type": "code",
   "execution_count": 1,
   "id": "b31f7d08",
   "metadata": {},
   "outputs": [],
   "source": [
    "from scipy.ndimage import gaussian_filter\n",
    "import numpy  as np\n",
    "import matplotlib.pyplot as plt\n",
    "import time\n",
    "from utils import *\n",
    "import copy\n",
    "from hcipy import *\n",
    "import os.path\n",
    "import csv\n",
    "from astropy.io import fits\n",
    "from processing import *\n",
    "%matplotlib inline"
   ]
  },
  {
   "cell_type": "markdown",
   "id": "046ab5ee",
   "metadata": {},
   "source": [
    "# Import Files"
   ]
  },
  {
   "cell_type": "markdown",
   "id": "9117d887",
   "metadata": {},
   "source": [
    "## Input File Names"
   ]
  },
  {
   "cell_type": "code",
   "execution_count": 2,
   "id": "06acb53f",
   "metadata": {},
   "outputs": [],
   "source": [
    "## Input the FITS name and the camera name of as many FITS file as you want\n",
    "\n",
    "saved_file_name = \"Five_Shutter_Analysis\" # Name you want to use to save images\n",
    "\n",
    "fits_name1 = \"ProEM_HS_512BX3.fits\" # Type name of FITS file you want to read\n",
    "camera_name1 = \"ProEM\" # Name of the first shutter. Used for legends\n",
    "\n",
    "fits_name2 = \"ORCA Quest.fits\" # Name of Second Shutter Data. Is not used if second_shutter_test = False\n",
    "camera_name2 = \"ORCA Quest\" # Name of Second Shutter. Used for Legends\n",
    "\n",
    "fits_name3 = \"Kinetix.fits\" # Name of Third Shutter Data. Is not used if second_shutter_test = False\n",
    "camera_name3 = \"Kinetix\" # Name of Third Shutter. Used for Legends\n",
    "\n",
    "fits_name4 = \"iXon_897.fits\" # Name of Fourth Shutter Data. Is not used if second_shutter_test = False\n",
    "camera_name4 = \"iXon 897\" # Name of Fourth Shutter. Used for Legends\n",
    "\n",
    "fits_name5 = \"Prime_BSI.fits\" # Name of Fifth Shutter Data. Is not used if second_shutter_test = False\n",
    "camera_name5 = \"Prime BSI\" # Name of Fifth Shutter. Used for Legends\n",
    "\n",
    "sigma = 5 # determines contrast level, e.g. sigma=5 --> 5-sigma contrast curve"
   ]
  },
  {
   "cell_type": "markdown",
   "id": "ec7aabb2",
   "metadata": {},
   "source": [
    "## Load Fits Files"
   ]
  },
  {
   "cell_type": "code",
   "execution_count": 3,
   "id": "4530dc97",
   "metadata": {},
   "outputs": [],
   "source": [
    "fits_file1 = fits.open(fits_name1)\n",
    "fits_file2 = fits.open(fits_name2)\n",
    "fits_file3 = fits.open(fits_name3)\n",
    "fits_file4 = fits.open(fits_name4)\n",
    "fits_file5 = fits.open(fits_name5)\n",
    "fits_files = [fits_file1, fits_file2, fits_file3, fits_file4, fits_file5]\n",
    "camera_names = [camera_name1, camera_name2, camera_name3, camera_name4, camera_name5]"
   ]
  },
  {
   "cell_type": "markdown",
   "id": "e0311a42",
   "metadata": {},
   "source": [
    "## Load Header Data"
   ]
  },
  {
   "cell_type": "code",
   "execution_count": 4,
   "id": "3bc5ead6",
   "metadata": {},
   "outputs": [],
   "source": [
    "wavelengths = []\n",
    "pupil_diameters = []\n",
    "mags = []\n",
    "qs = []\n",
    "shutters = []\n",
    "fpss = []\n",
    "read_noises = []\n",
    "dark_currents = []\n",
    "seeings = []\n",
    "outer_scales = []\n",
    "velocitys = []\n",
    "quantum_efficiencys = []\n",
    "exposure_times = []\n",
    "exposure_numbers = []\n",
    "for i in fits_files:\n",
    "    wavelength = i[0].header['Wavelnth']\n",
    "    wavelength = wavelength.split(' ')\n",
    "    wavelengths.append(float(wavelength[0]))\n",
    "    pupil_diameter = i[0].header['PUPDIAMT']\n",
    "    pupil_diameter = pupil_diameter.split(' ')\n",
    "    pupil_diameters.append(float(pupil_diameter[0]))\n",
    "    mag = i[0].header['PRIMAG']\n",
    "    mag = mag.split(' ')\n",
    "    mags.append(float(mag[0]))\n",
    "    q = i[0].header['Q']\n",
    "    q = q.split(' ')\n",
    "    qs.append(float(q[0]))\n",
    "    shutter = i[0].header['NSubdivi']\n",
    "    shutter= shutter.split(' ')\n",
    "    shutter=float(shutter[0])\n",
    "    if shutter == 1:\n",
    "        shutters.append(\"Global\")\n",
    "    else:\n",
    "        shutters.append(\"Rolling\")\n",
    "    fps = i[0].header['FPS']\n",
    "    fps = fps.split(' ')\n",
    "    fpss.append(fps[0])\n",
    "    read_noise = i[0].header['RdNoise']\n",
    "    read_noise = read_noise.split(\" \")\n",
    "    read_noises.append(read_noise[0])\n",
    "    dark_current = i[0].header['DarkCurr']\n",
    "    dark_current = dark_current.split(\" \")\n",
    "    dark_currents.append(dark_current[0])\n",
    "    quantum_efficiency = i[0].header['QE']\n",
    "    quantum_efficiency = quantum_efficiency.split(\" \")\n",
    "    quantum_efficiencys.append(quantum_efficiency[0])\n",
    "    seeing = i[0].header['Seeing']\n",
    "    seeing = seeing.split(\" \")\n",
    "    seeings.append(seeing[0])\n",
    "    outer_scale = i[0].header['OutScale']\n",
    "    outer_scale = outer_scale.split(' ')\n",
    "    outer_scales.append(outer_scale[0])\n",
    "    velocity = i[0].header['Velocity']\n",
    "    velocity = velocity.split(' ')\n",
    "    velocitys.append(velocity[0])\n",
    "    exposure_time = i[0].header['ExpoTime']\n",
    "    exposure_time = exposure_time.split(\" \")\n",
    "    exposure_times.append(exposure_time[0])\n",
    "    exposure_number = i[0].header['NumExpos']\n",
    "    exposure_number = exposure_number.split(\" \")\n",
    "    exposure_numbers.append(exposure_number[0])"
   ]
  },
  {
   "cell_type": "markdown",
   "id": "c8d930f7",
   "metadata": {},
   "source": [
    "# Combine Image Data"
   ]
  },
  {
   "cell_type": "code",
   "execution_count": 6,
   "id": "c7eabd4c",
   "metadata": {},
   "outputs": [
    {
     "name": "stdout",
     "output_type": "stream",
     "text": [
      "Combining Image Data for  ProEM_HS_512BX3\n",
      "Combining Image Data for  ORCA Quest\n",
      "Combining Image Data for  Kinetix\n",
      "Combining Image Data for  iXon_897\n",
      "Combining Image Data for  Prime_BSI\n",
      "Image Combining Complete\n"
     ]
    }
   ],
   "source": [
    "ims_out_as = []\n",
    "for i in fits_files:\n",
    "    print(\"Combining Image Data for \", i[0].header['Title'])\n",
    "    npix = int(np.sqrt(np.prod(i[1].data.shape)))\n",
    "    ims_out = []\n",
    "    for j in range(1, len(i)):\n",
    "        im = i[j].data\n",
    "        im_out = im.copy().reshape([npix,npix])\n",
    "        ims_out.append(np.array(im_out))\n",
    "    ims_out_as.append(np.array(ims_out))\n",
    "print(\"Image Combining Complete\")"
   ]
  },
  {
   "cell_type": "markdown",
   "id": "a37c64d1",
   "metadata": {},
   "source": [
    "# Image Processing"
   ]
  },
  {
   "cell_type": "code",
   "execution_count": null,
   "id": "af70bf01",
   "metadata": {},
   "outputs": [
    {
     "name": "stdout",
     "output_type": "stream",
     "text": [
      "Processing  ProEM_HS_512BX3\n",
      "Performing Image Preprocessing\n",
      "Taking Fourier Transform\n",
      "Taking Power Spectrum\n"
     ]
    }
   ],
   "source": [
    "## Image Processing\n",
    "# includes preprocessing, taking FTs, power spectra, and ACFs\n",
    "\n",
    "# Function Parameters - see processing.py for more detail\n",
    "# ims           - input image array\n",
    "# ims_ft        - input FT array\n",
    "# gsigma        - std deviation for the Gaussian kernel\n",
    "# subframe_size - final image size in pixels\n",
    "# HWHM          - half-wavelength at half maximum for supergaussian window\n",
    "# m             - order of supergaussian window\n",
    "# scaling       - determines radial cutoff (fcut) for PS\n",
    "ims_ps=[]\n",
    "FTs =[]\n",
    "PSs = []\n",
    "Av_PSs = []\n",
    "ACFs = []\n",
    "for i in range(len(fits_files)):\n",
    "    print(\"Processing \", fits_files[i][0].header['Title'] )\n",
    "    print(\"Performing Image Preprocessing\")\n",
    "    ims_p = image_preprocessing(ims_out_as[i], 10, 550)\n",
    "    #              parameters: (ims, gsigma, subframe_size)\n",
    "    ims_ps.append(ims_p)\n",
    "    print(\"Taking Fourier Transform\")\n",
    "    FT = fourier_transform(ims_p, 100, 4)\n",
    "    #              parameters: (ims, HWHM, m)\n",
    "    FTs.append(FT)\n",
    "    print(\"Taking Power Spectrum\")\n",
    "    PS, Av_PS = power_spectrum(FT, qs[i], wavelengths[i], pupil_diameters[i], 1.)\n",
    "    #              parameters: (ims_ft, wavelength, pupil_diameter, scaling, HWHM, m)\n",
    "    PSs.append(PS)\n",
    "    Av_PSs.append(Av_PS)\n",
    "    print(\"Performing Auto Correlation Function\")\n",
    "    ACF = generate_ACF(Av_PS)\n",
    "    #              parameters: (ims_ps)\n",
    "    ACFs.append(ACF)\n",
    "    print()\n",
    "print(\"Processing Complete\")"
   ]
  },
  {
   "cell_type": "markdown",
   "id": "35d053e4",
   "metadata": {},
   "source": [
    "# Generate Speckle Contrast Curve"
   ]
  },
  {
   "cell_type": "code",
   "execution_count": null,
   "id": "88dc3402",
   "metadata": {},
   "outputs": [],
   "source": [
    "ACF_ccs = []\n",
    "ACF_xaxs = []\n",
    "\n",
    "for i in range(len(fits_files)):\n",
    "    plate_scale = wavelengths[i] / (pupil_diameters[i] * qs[i]) * 206265. # (arcsec/pixel)\n",
    "    rad_ACF = radial_data(np.abs(ACFs[i]), annulus_width=2)\n",
    "    ACF_cc = -2.5 * np.log10((1. - np.sqrt(1. - (2 * (sigma * rad_ACF.std)) ** 2)) / (2 * (sigma * rad_ACF.std)))\n",
    "    ACF_ccs.append(ACF_cc)\n",
    "    ACF_xax = np.array(range(len(rad_ACF.mean))) * plate_scale # arcsec \n",
    "    ACF_xaxs.append(ACF_xax) \n",
    "    \n",
    "\n",
    "f = plt.figure(figsize=(15,12))\n",
    "for i in range(len(fits_files)):\n",
    "    label = fits_files[i][0].header['Title'] + \", FPS = \"+ fpss[i] + \", Shutter = \" + shutters[i] + \", Read Noise = \" + read_noises[i] + \", Dark Current = \" + dark_currents[i] + \", QE = \" + quantum_efficiencys[i]\n",
    "    plt.plot(ACF_xaxs[i], ACF_ccs[i], label = label , lw=3)\n",
    "title = \"\\nPrimary Magnitude = \" + str(mags[0]) +  \", Exposure Time = \" + exposure_times[0] + \", Number of Exposures = \" + exposure_numbers[0] + \"\\nSeeing = \" + seeings[0] + \", Outer Scale = \" + outer_scales[0] + \", Wind Velocity = \" + velocitys[0]\n",
    "plt.xlim(0.0, 2.0)\n",
    "plt.gca().invert_yaxis()\n",
    "plt.legend(loc='lower left')\n",
    "plt.ylabel(r'' + str(sigma) + ' $\\sigma$ Contrast (mag)')\n",
    "plt.xlabel(r'Separation (arcsec)')\n",
    "plt.title('VIPER Conventional Speckle' + title)\n",
    "plt.savefig(saved_file_name + \".jpg\", bbox_inches = 'tight',  dpi = 300)"
   ]
  }
 ],
 "metadata": {
  "kernelspec": {
   "display_name": "Python 3",
   "language": "python",
   "name": "python3"
  },
  "language_info": {
   "codemirror_mode": {
    "name": "ipython",
    "version": 3
   },
   "file_extension": ".py",
   "mimetype": "text/x-python",
   "name": "python",
   "nbconvert_exporter": "python",
   "pygments_lexer": "ipython3",
   "version": "3.8.10"
  }
 },
 "nbformat": 4,
 "nbformat_minor": 5
}
