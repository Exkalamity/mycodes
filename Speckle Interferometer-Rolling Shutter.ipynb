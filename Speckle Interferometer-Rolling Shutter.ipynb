{
 "cells": [
  {
   "cell_type": "code",
   "execution_count": 1,
   "metadata": {},
   "outputs": [],
   "source": [
    "import numpy  as np\n",
    "import matplotlib.pyplot as plt\n",
    "import time\n",
    "from utils import *\n",
    "import copy\n",
    "from hcipy import *\n",
    "import os\n",
    "%load_ext autoreload\n",
    "%autoreload 2"
   ]
  },
  {
   "cell_type": "markdown",
   "metadata": {},
   "source": [
    "## Telescope Setup\n",
    "Starting with the Magellan pupil (scaled to 3.048 m) till we get a description of the Shane pupil "
   ]
  },
  {
   "cell_type": "code",
   "execution_count": 2,
   "metadata": {},
   "outputs": [],
   "source": [
    "pupil_diameter = 3.048 # (meter)\n",
    "collecting_area = np.pi * (3.048**2 - 0.9779**2)\n",
    "\n",
    "f_number = 13 # effective focal ratio\n",
    "effective_focal_length = pupil_diameter * f_number # (meter)\n",
    "\n",
    "filter_name = 'V'\n",
    "wavelength = filters[filter_name]['lambda_eff'] * 1e-6 # (meter)\n"
   ]
  },
  {
   "cell_type": "code",
   "execution_count": 3,
   "metadata": {},
   "outputs": [
    {
     "data": {
      "image/png": "[encoded data removed]",
      "text/plain": [
       "<Figure size 432x288 with 2 Axes>"
      ]
     },
     "metadata": {
      "needs_background": "light"
     },
     "output_type": "display_data"
    }
   ],
   "source": [
    "# Generating the pupil grid\n",
    "grid_size = 256\n",
    "\n",
    "pupil_grid = make_pupil_grid(grid_size, diameter=pupil_diameter)\n",
    "\n",
    "# Adjust spiders to represent Shane pupil\n",
    "telescope_pupil_generator = make_lick_aperture()\n",
    "telescope_pupil = telescope_pupil_generator(pupil_grid)\n",
    "\n",
    "im = imshow_field(telescope_pupil, cmap='gray', )\n",
    "plt.colorbar()\n",
    "plt.xlabel('x / D')\n",
    "plt.ylabel('y / D')\n",
    "plt.show()"
   ]
  },
  {
   "cell_type": "markdown",
   "metadata": {},
   "source": [
    "## Setting Up the Atmosphere\n",
    "seeing estimated from the following source: \n",
    "https://mthamilton.ucolick.org/techdocs/MH_weather/obstats/avg_seeing.html"
   ]
  },
  {
   "cell_type": "code",
   "execution_count": 4,
   "metadata": {},
   "outputs": [
    {
     "name": "stdout",
     "output_type": "stream",
     "text": [
      "r0   = 6.3cm\n",
      "L0   = 40.0m\n",
      "tau0 = 1.0ms\n",
      "v    = 20.0m/s\n"
     ]
    }
   ],
   "source": [
    "seeing = 1.75\n",
    "outer_scale = 40. # (meter) --> GUESS, NEEDS REFINING\n",
    "velocity = 20. # (m/s) --> GUESS, NEEDS REFINING\n",
    "                                    \n",
    "fried_parameter = seeing_to_fried_parameter(seeing, wavelength)\n",
    "                             \n",
    "Cn_squared = Cn_squared_from_fried_parameter(fried_parameter, wavelength)\n",
    "\n",
    "tau0 = 0.314 * fried_parameter/velocity\n",
    "\n",
    "print('r0   = {0:.1f}cm'.format(fried_parameter * 100))\n",
    "print('L0   = {0:.1f}m'.format(outer_scale))\n",
    "print('tau0 = {0:.1f}ms'.format(tau0 * 1000))\n",
    "print('v    = {0:.1f}m/s'.format(velocity))"
   ]
  },
  {
   "cell_type": "code",
   "execution_count": 5,
   "metadata": {},
   "outputs": [
    {
     "data": {
      "text/plain": [
       "<matplotlib.image.NonUniformImage at 0x1b2469318b0>"
      ]
     },
     "execution_count": 5,
     "metadata": {},
     "output_type": "execute_result"
    },
    {
     "data": {
      "image/png": "[encoded data removed]",
      "text/plain": [
       "<Figure size 432x288 with 1 Axes>"
      ]
     },
     "metadata": {
      "needs_background": "light"
     },
     "output_type": "display_data"
    }
   ],
   "source": [
    "# Generating phase screens\n",
    "layer = InfiniteAtmosphericLayer(pupil_grid, Cn_squared, outer_scale, velocity)\n",
    "\n",
    "phase_screen_phase = layer.phase_for(wavelength) # (radian)\n",
    "phase_screen_opd = phase_screen_phase * (wavelength / (2 * np.pi)) * 1e6\n",
    "\n",
    "imshow_field(phase_screen_opd, vmin=-2*np.pi, vmax=2*np.pi, cmap='RdBu')"
   ]
  },
  {
   "cell_type": "code",
   "execution_count": 6,
   "metadata": {},
   "outputs": [],
   "source": [
    "# Propagating to focal plane\n",
    "\n",
    "nairy = 20\n",
    "\n",
    "focal_grid = make_focal_grid(q=4, \n",
    "                             num_airy=nairy,\n",
    "                             pupil_diameter=pupil_diameter,\n",
    "                             focal_length = effective_focal_length,\n",
    "                             reference_wavelength=wavelength)\n",
    "\n",
    "prop = FraunhoferPropagator(pupil_grid, focal_grid, \n",
    "                            focal_length=effective_focal_length)"
   ]
  },
  {
   "cell_type": "markdown",
   "metadata": {},
   "source": [
    "## Add a Primary and Companion"
   ]
  },
  {
   "cell_type": "code",
   "execution_count": 7,
   "metadata": {},
   "outputs": [],
   "source": [
    "# Primary parameters\n",
    "mag = 17 #Vega magnitude in the band of interest\n",
    "stokes_vector= [1.,0.,0.,0.] #I, Q, U, V\n",
    "\n",
    "# Companion parameters\n",
    "contrast = 0.\n",
    "stokes_ps = [1.,0.,0.,0.] #I, Q, U, V\n",
    "angular_separation= 2 #Lambda/D\n",
    "\n",
    "# Exposure time and total number of exposures\n",
    "exposure_time = 0.01 # (seconds)\n",
    "exposure_total = 100"
   ]
  },
  {
   "cell_type": "markdown",
   "metadata": {},
   "source": [
    "### Simulating Image Data"
   ]
  },
  {
   "cell_type": "code",
   "execution_count": 8,
   "metadata": {},
   "outputs": [],
   "source": [
    "from scipy.ndimage import gaussian_filter\n",
    "\n",
    "def center_image(img, gsigma, cpix):\n",
    "#   [img] - image array\n",
    "#   [gsigma] - standard deviation for Gaussian kernel\n",
    "#   [cpix] - number of pixels in output image \n",
    "    im_o_g = gaussian_filter(img, sigma=gsigma)\n",
    "    maximum = np.where(im_o_g == np.max(im_o_g))\n",
    "    #print(maximum)\n",
    "    #print(type(img))\n",
    "    #print(type(im_o_g))\n",
    "    #imshow_field(img)\n",
    "    #plt.imshow(im_o_g)\n",
    "    x1 = int(maximum[0] - (cpix/2))\n",
    "    x2 = int(maximum[0] + (cpix/2))\n",
    "    \n",
    "    y1 = int(maximum[1] - (cpix/2))\n",
    "    y2 = int(maximum[1] + (cpix/2))\n",
    "    \n",
    "    center_image = img[x1:x2, y1:y2]\n",
    "    return(center_image)\n"
   ]
  },
  {
   "cell_type": "code",
   "execution_count": 9,
   "metadata": {},
   "outputs": [],
   "source": [
    "pupil_wavefront = Wavefront(telescope_pupil, wavelength,\n",
    "                            input_stokes_vector=stokes_vector)\n",
    "pupil_wavefront.total_power = number_of_photons(mag,filter_name,collecting_area,) #In photons/s\n",
    "\n",
    "\n",
    "wf_planet = Wavefront(telescope_pupil*np.exp(4j*np.pi*pupil_grid.x*angular_separation/pupil_diameter),\n",
    "                      wavelength,\n",
    "                      input_stokes_vector=stokes_ps)\n",
    "wf_planet.total_power = contrast * number_of_photons(mag,filter_name,collecting_area,) # (photons/s)"
   ]
  },
  {
   "cell_type": "code",
   "execution_count": 10,
   "metadata": {},
   "outputs": [
    {
     "data": {
      "text/plain": [
       "25600"
      ]
     },
     "execution_count": 10,
     "metadata": {},
     "output_type": "execute_result"
    }
   ],
   "source": [
    "focal_grid.size"
   ]
  },
  {
   "cell_type": "code",
   "execution_count": null,
   "metadata": {},
   "outputs": [
    {
     "name": "stdout",
     "output_type": "stream",
     "text": [
      "Percent complete =  2.0380.1880.6941.456\r"
     ]
    }
   ],
   "source": [
    "detector = NoisyDetector(focal_grid, dark_current_rate=0, read_noise=0, flat_field=0, include_photon_noise=True)\n",
    "#detector = NoiselessDetector(focal_grid)\n",
    "fps = 532\n",
    "detector_size = 512 # width of shortest side of detector. Number of rows in the DETECTOR\n",
    "number_of_rows = int(np.sqrt(focal_grid.size))# Width of the focal plane. Number of in rows the FOCAL PLANE.\n",
    "row_readout_rate = 1/fps/detector_size\n",
    "row_exposure_time = row_readout_rate\n",
    "\n",
    "layer.t = exposure_time\n",
    "for i in range(exposure_total):\n",
    "    layer.t+=exposure_time\n",
    "    image_comb = focal_grid.zeros()\n",
    "    for j in range(int(number_of_rows)):\n",
    "        layer_copy = copy.deepcopy(layer)\n",
    "        layer_copy.t = row_readout_rate*j\n",
    "        detector.integrate(prop((layer_copy(pupil_wavefront))),exposure_time)\n",
    "        detector.integrate(prop((layer_copy(wf_planet))),exposure_time)   \n",
    "        image_row = detector.read_out()\n",
    "        #imshow_field(image_row)\n",
    "        start = int(focal_grid.size*(j/number_of_rows))\n",
    "        end = int(focal_grid.size*((j+1)/number_of_rows))\n",
    "        image_comb[start:end]=image_row[start:end]        \n",
    "        print(\"Percent complete = \", round((j+i*int(number_of_rows))/(number_of_rows*exposure_total) * 100, 3), end = '\\r')\n",
    "    npix = int(np.sqrt(len(image_comb)))    \n",
    "    #print(type(image_comb))\n",
    "    #imshow_field(image_comb)\n",
    "    im_ft = image_comb.reshape([npix,npix])\n",
    "    #print(type(im_ft))\n",
    "    #imshow_field(im_ft)\n",
    "#   image centering\n",
    "    center_image(im_ft, 10, npix)\n",
    "    \n",
    "#   supergaussian window    \n",
    "    if i == 0: sg = supergauss_hw(100,4, npix)\n",
    "        \n",
    "#   fourier transform\n",
    "    FT = np.fft.fftshift(np.fft.fft2(np.fft.fftshift(im_ft*sg)))\n",
    "    \n",
    "#   power spectrum\n",
    "    PS = np.abs(FT/FT[int(npix/2),int(npix/2)])**2\n",
    "    if i==0:\n",
    "        PS_all = np.array(PS)\n",
    "    else:\n",
    "        PS_all+=PS\n"
   ]
  },
  {
   "cell_type": "code",
   "execution_count": null,
   "metadata": {},
   "outputs": [],
   "source": [
    "from radial_profile import radial_data\n",
    "\n",
    "rad_stats = radial_data(PS_all)\n",
    "plt.figure()\n",
    "plt.plot(rad_stats.r, rad_stats.mean)\n",
    "plt.xlabel('Radial coordinate')\n",
    "plt.ylabel('Mean')"
   ]
  },
  {
   "cell_type": "code",
   "execution_count": null,
   "metadata": {},
   "outputs": [],
   "source": [
    "# Bias sub\n",
    "PS_all_bsub = PS_all.copy()\n",
    "PS_all_bsub -= np.mean(PS_all[700:,700:])\n",
    "\n",
    "# Divide PS by azimuthal average at low frequencies (f < 0.2 fc = 0.2 D / lambda)\n",
    "\n",
    "# Grid: 800 pixels across, equalling 200 lambda / D, plate scale is then 0.25*lambda / D per pixel\n",
    "plate_scale = 0.25 * wavelength / pupil_diameter * 206265.   #of image in (arcsec / pixel)\n",
    "\n",
    "# Plate scale in meters per pixel\n",
    "ps_mpp = 1. / (npix * plate_scale) * 206265. * wavelength \n",
    "scaling = 0.5\n",
    "fcut = pupil_diameter / ps_mpp * scaling\n",
    "\n",
    "PS_all_filt = PS_all_bsub.copy()\n",
    "\n",
    "for xx in range(len(PS_all_filt)):\n",
    "    for yy in range(len(PS_all_filt)):\n",
    "        rad = np.sqrt((xx-npix/2)**2+(yy-npix/2)**2)\n",
    "        if rad < fcut:\n",
    "            drad = rad_stats.r-rad\n",
    "            val = rad_stats.mean[np.where(np.abs(drad)==np.min(np.abs(drad)))][0]\n",
    "            PS_all_filt[yy,xx]/=val"
   ]
  },
  {
   "cell_type": "code",
   "execution_count": null,
   "metadata": {},
   "outputs": [],
   "source": [
    "# Power spectrum plots\n",
    "\n",
    "f = plt.figure(figsize=(16,10))\n",
    "f.add_subplot(131)\n",
    "plt.imshow(np.abs(PS_all)**0.1) # initial PS\n",
    "f.add_subplot(132)\n",
    "plt.imshow(np.abs(PS_all_bsub)**0.1) # PS w/ bias subtraction\n",
    "f.add_subplot(133)\n",
    "plt.imshow(np.abs(PS_all_filt)) # final filtered PS\n",
    "plt.show()"
   ]
  },
  {
   "cell_type": "markdown",
   "metadata": {},
   "source": [
    "### Autocorrelation Function "
   ]
  },
  {
   "cell_type": "code",
   "execution_count": null,
   "metadata": {},
   "outputs": [],
   "source": [
    "# Generating the ACF \n",
    "ACF = np.fft.fftshift(np.fft.fft2(np.fft.fftshift(PS_all)))\n",
    "\n",
    "ACF_filt = np.fft.fftshift(np.fft.fft2(np.fft.fftshift(PS_all_filt)))\n",
    "\n",
    "ACF_filt_norm = ACF_filt / ACF_filt[int(npix/2),int(npix/2)]\n"
   ]
  },
  {
   "cell_type": "code",
   "execution_count": null,
   "metadata": {
    "scrolled": true
   },
   "outputs": [],
   "source": [
    "# Plotting ACF\n",
    "fsub = 30\n",
    "\n",
    "f = plt.figure(figsize=(8,10))\n",
    "plt.imshow(np.abs(ACF)[int(npix/2)-fsub:int(npix/2)+fsub,int(npix/2)-fsub:int(npix/2)+fsub])\n",
    "plt.show()\n",
    "\n",
    "# Filtered & normalized ACF\n",
    "f = plt.figure(figsize=(8,10))\n",
    "plt.imshow(np.abs(ACF_filt_norm)[int(npix/2)-fsub:int(npix/2)+fsub,int(npix/2)-fsub:int(npix/2)+fsub])\n",
    "plt.colorbar()\n",
    "plt.show()"
   ]
  },
  {
   "cell_type": "markdown",
   "metadata": {},
   "source": [
    "### Final Image, PS, and ACF"
   ]
  },
  {
   "cell_type": "code",
   "execution_count": null,
   "metadata": {},
   "outputs": [],
   "source": [
    "# Image, PS, and ACF plots\n",
    "f = plt.figure(figsize=(15,5))\n",
    "ax=f.add_subplot(131)\n",
    "plt.imshow(im_ft**0.5)\n",
    "ax.set_yticks([])\n",
    "ax.set_xticks([])\n",
    "plt.title('Image')\n",
    "ax = f.add_subplot(132)\n",
    "plt.title('Power Spectrum')\n",
    "plt.imshow(np.abs(PS_all_filt))\n",
    "ax.set_yticks([])\n",
    "ax.set_xticks([])\n",
    "ax=f.add_subplot(133)\n",
    "plt.imshow(np.abs(ACF_filt_norm)[int(npix/2)-fsub:int(npix/2)+fsub,int(npix/2)-fsub:int(npix/2)+fsub])\n",
    "ax.set_yticks([])\n",
    "ax.set_xticks([])\n",
    "plt.title('Autocorrelation')\n",
    "plt.show()\n",
    "\n",
    "# To save image:\n",
    "#plt.savefig('speckle_imaging.png')"
   ]
  },
  {
   "cell_type": "markdown",
   "metadata": {},
   "source": [
    "## Speckle Contrast Curve"
   ]
  },
  {
   "cell_type": "code",
   "execution_count": null,
   "metadata": {},
   "outputs": [],
   "source": [
    "def ACF_cc(ACF):\n",
    "    return -2.5*np.log10((1.-np.sqrt(1.-(2*ACF)**2))/(2*ACF))"
   ]
  },
  {
   "cell_type": "code",
   "execution_count": null,
   "metadata": {},
   "outputs": [],
   "source": [
    "#Generating contrast curves\n",
    "\n",
    "ACF_m = ACF_cc(ACF_filt_norm)\n",
    "rad_ACF = radial_data(np.abs(ACF_filt_norm), annulus_width=2)\n",
    "cc = ACF_cc(5*rad_ACF.std)\n",
    "\n",
    "\n",
    "xax = np.array(range(len(rad_ACF.mean))) * plate_scale / ((wavelength) / pupil_diameter * 206265) #in lambda/D units\n",
    "\n",
    "f = plt.figure(figsize=(5,4))\n",
    "plt.plot(xax,cc,label='V = '+str(mag)+' mag',lw=3)\n",
    "plt.xlim(0.0,20.0)\n",
    "plt.gca().invert_yaxis()\n",
    "plt.legend(loc='lower left')\n",
    "plt.ylabel(r'5$\\sigma$ Contrast (mag)')\n",
    "plt.xlabel(r'Separation ($\\lambda$ / D)')\n",
    "plt.title('VIPER Conventional Speckle: 100 x 10ms')\n",
    "plt.savefig('speckle_cont_conv_2.png',dpi=300)\n",
    "plt.show()"
   ]
  },
  {
   "cell_type": "code",
   "execution_count": null,
   "metadata": {},
   "outputs": [],
   "source": []
  },
  {
   "cell_type": "code",
   "execution_count": null,
   "metadata": {},
   "outputs": [],
   "source": []
  },
  {
   "cell_type": "code",
   "execution_count": null,
   "metadata": {},
   "outputs": [],
   "source": []
  }
 ],
 "metadata": {
  "kernelspec": {
   "display_name": "Python 3",
   "language": "python",
   "name": "python3"
  },
  "language_info": {
   "codemirror_mode": {
    "name": "ipython",
    "version": 3
   },
   "file_extension": ".py",
   "mimetype": "text/x-python",
   "name": "python",
   "nbconvert_exporter": "python",
   "pygments_lexer": "ipython3",
   "version": "3.8.10"
  }
 },
 "nbformat": 4,
 "nbformat_minor": 2
}
